{
  "nbformat": 4,
  "nbformat_minor": 0,
  "metadata": {
    "colab": {
      "name": "Rock, Scissor, Paper Classifier.ipynb",
      "provenance": [],
      "collapsed_sections": [],
      "authorship_tag": "ABX9TyMyfntsYM1/RXtWs9bMD2ul",
      "include_colab_link": true
    },
    "kernelspec": {
      "name": "python3",
      "display_name": "Python 3"
    },
    "language_info": {
      "name": "python"
    },
    "accelerator": "GPU",
    "gpuClass": "standard"
  },
  "cells": [
    {
      "cell_type": "markdown",
      "metadata": {
        "id": "view-in-github",
        "colab_type": "text"
      },
      "source": [
        "<a href=\"https://colab.research.google.com/github/YouMinJung/RockScissorPaper_Classifier/blob/main/Rock_Scissor_Paper_Classifier.ipynb\" target=\"_parent\"><img src=\"https://colab.research.google.com/assets/colab-badge.svg\" alt=\"Open In Colab\"/></a>"
      ]
    },
    {
      "cell_type": "markdown",
      "source": [
        "# Multi-class Classifier\n",
        "\n",
        "Classifier the Rock, Paper, and Scissors poses using [Rock-Paper-Scissors dataset](http://www.laurencemoroney.com/rock-paper-scissors-dataset/).\n",
        "<br/>\n",
        "This dataset is CGI dataset, and each image is 300×300 pixels in 24-bit color."
      ],
      "metadata": {
        "id": "Azl7kw4bZUYy"
      }
    },
    {
      "cell_type": "markdown",
      "source": [
        "## Download and Prepare the Dataset"
      ],
      "metadata": {
        "id": "l09LbcnXZ5yJ"
      }
    },
    {
      "cell_type": "code",
      "execution_count": 1,
      "metadata": {
        "colab": {
          "base_uri": "https://localhost:8080/"
        },
        "id": "7x9lZp4HYMnk",
        "outputId": "a669028f-39c0-460b-f358-c92710f61bab"
      },
      "outputs": [
        {
          "output_type": "stream",
          "name": "stdout",
          "text": [
            "--2022-07-19 03:25:38--  https://storage.googleapis.com/tensorflow-1-public/course2/week4/rps.zip\n",
            "Resolving storage.googleapis.com (storage.googleapis.com)... 173.194.214.128, 173.194.215.128, 173.194.216.128, ...\n",
            "Connecting to storage.googleapis.com (storage.googleapis.com)|173.194.214.128|:443... connected.\n",
            "HTTP request sent, awaiting response... 200 OK\n",
            "Length: 200682221 (191M) [application/zip]\n",
            "Saving to: ‘rps.zip’\n",
            "\n",
            "rps.zip             100%[===================>] 191.38M   167MB/s    in 1.1s    \n",
            "\n",
            "2022-07-19 03:25:39 (167 MB/s) - ‘rps.zip’ saved [200682221/200682221]\n",
            "\n",
            "--2022-07-19 03:25:39--  https://storage.googleapis.com/tensorflow-1-public/course2/week4/rps-test-set.zip\n",
            "Resolving storage.googleapis.com (storage.googleapis.com)... 172.217.193.128, 172.217.204.128, 142.250.98.128, ...\n",
            "Connecting to storage.googleapis.com (storage.googleapis.com)|172.217.193.128|:443... connected.\n",
            "HTTP request sent, awaiting response... 200 OK\n",
            "Length: 29516758 (28M) [application/zip]\n",
            "Saving to: ‘rps-test-set.zip’\n",
            "\n",
            "rps-test-set.zip    100%[===================>]  28.15M   163MB/s    in 0.2s    \n",
            "\n",
            "2022-07-19 03:25:39 (163 MB/s) - ‘rps-test-set.zip’ saved [29516758/29516758]\n",
            "\n"
          ]
        }
      ],
      "source": [
        "# Download the train set\n",
        "!wget https://storage.googleapis.com/tensorflow-1-public/course2/week4/rps.zip\n",
        "    \n",
        "# Download the test set\n",
        "!wget https://storage.googleapis.com/tensorflow-1-public/course2/week4/rps-test-set.zip"
      ]
    },
    {
      "cell_type": "code",
      "source": [
        "import zipfile\n",
        "\n",
        "# Extract the archive\n",
        "local_zip = './rps.zip'\n",
        "zip_ref = zipfile.ZipFile(local_zip, 'r')\n",
        "zip_ref.extractall('tmp/rps-train')\n",
        "zip_ref.close()\n",
        "\n",
        "local_zip = './rps-test-set.zip'\n",
        "zip_ref = zipfile.ZipFile(local_zip, 'r')\n",
        "zip_ref.extractall('tmp/rps-test')\n",
        "zip_ref.close()"
      ],
      "metadata": {
        "id": "2VL049kTaPgx"
      },
      "execution_count": 2,
      "outputs": []
    },
    {
      "cell_type": "code",
      "source": [
        "import os\n",
        "\n",
        "base_dir = 'tmp/rps-train/rps'\n",
        "\n",
        "rock_dir = os.path.join(base_dir, 'rock')\n",
        "paper_dir = os.path.join(base_dir, 'paper')\n",
        "scissors_dir = os.path.join(base_dir, 'scissors')\n",
        "\n",
        "print('total training rock images:', len(os.listdir(rock_dir)))\n",
        "print('total training paper images:', len(os.listdir(paper_dir)))\n",
        "print('total training scissors images:', len(os.listdir(scissors_dir)))\n",
        "\n",
        "rock_files = os.listdir(rock_dir)\n",
        "print(rock_files[:10])\n",
        "\n",
        "paper_files = os.listdir(paper_dir)\n",
        "print(paper_files[:10])\n",
        "\n",
        "scissors_files = os.listdir(scissors_dir)\n",
        "print(scissors_files[:10])"
      ],
      "metadata": {
        "colab": {
          "base_uri": "https://localhost:8080/"
        },
        "id": "n6L3spmSaUEe",
        "outputId": "152e3b2e-fe02-4c81-952b-c5b806b5c3b8"
      },
      "execution_count": 3,
      "outputs": [
        {
          "output_type": "stream",
          "name": "stdout",
          "text": [
            "total training rock images: 840\n",
            "total training paper images: 840\n",
            "total training scissors images: 840\n",
            "['rock07-k03-091.png', 'rock03-058.png', 'rock04-113.png', 'rock05ck01-045.png', 'rock01-028.png', 'rock02-057.png', 'rock04-014.png', 'rock03-113.png', 'rock03-098.png', 'rock02-109.png']\n",
            "['paper02-071.png', 'paper03-028.png', 'paper05-035.png', 'paper02-002.png', 'paper06-011.png', 'paper05-087.png', 'paper05-048.png', 'paper05-107.png', 'paper06-117.png', 'paper02-073.png']\n",
            "['testscissors01-108.png', 'scissors03-028.png', 'scissors02-039.png', 'testscissors02-071.png', 'scissors01-018.png', 'testscissors02-044.png', 'scissors01-057.png', 'testscissors01-020.png', 'scissors02-077.png', 'testscissors01-023.png']\n"
          ]
        }
      ]
    },
    {
      "cell_type": "markdown",
      "source": [
        "## Build the Model\n",
        "I will use 4 convolution layers with 64-64-128-128 filters then append a Dropout layer to avoid overfitting and some Dense layers for the classification. \n",
        "<br/>\n",
        "The output layer would be a 3-neuron dense layer activated by Softmax. \n",
        "<br/>\n",
        "The order of this 3-neuron output would be paper-rock-scissors."
      ],
      "metadata": {
        "id": "8LvmqcrTa9If"
      }
    },
    {
      "cell_type": "code",
      "source": [
        "import tensorflow as tf\n",
        "\n",
        "model = tf.keras.models.Sequential([\n",
        "    tf.keras.layers.Conv2D(64, (3,3), activation='relu', input_shape=(150, 150, 3)),\n",
        "    tf.keras.layers.MaxPooling2D(2, 2),\n",
        "    tf.keras.layers.Conv2D(64, (3,3), activation='relu'),\n",
        "    tf.keras.layers.MaxPooling2D(2,2),\n",
        "    tf.keras.layers.Conv2D(128, (3,3), activation='relu'),\n",
        "    tf.keras.layers.MaxPooling2D(2,2),\n",
        "    tf.keras.layers.Conv2D(128, (3,3), activation='relu'),\n",
        "    tf.keras.layers.MaxPooling2D(2,2),\n",
        "    tf.keras.layers.Flatten(),\n",
        "    tf.keras.layers.Dropout(0.5),\n",
        "    tf.keras.layers.Dense(512, activation='relu'),\n",
        "    tf.keras.layers.Dense(3, activation='softmax')\n",
        "])\n",
        "\n",
        "# Print the model summary\n",
        "model.summary()"
      ],
      "metadata": {
        "colab": {
          "base_uri": "https://localhost:8080/"
        },
        "id": "Gg3Hx6lNa_kj",
        "outputId": "19343d5c-a479-4ce8-8383-b146e5e7f686"
      },
      "execution_count": 4,
      "outputs": [
        {
          "output_type": "stream",
          "name": "stdout",
          "text": [
            "Model: \"sequential\"\n",
            "_________________________________________________________________\n",
            " Layer (type)                Output Shape              Param #   \n",
            "=================================================================\n",
            " conv2d (Conv2D)             (None, 148, 148, 64)      1792      \n",
            "                                                                 \n",
            " max_pooling2d (MaxPooling2D  (None, 74, 74, 64)       0         \n",
            " )                                                               \n",
            "                                                                 \n",
            " conv2d_1 (Conv2D)           (None, 72, 72, 64)        36928     \n",
            "                                                                 \n",
            " max_pooling2d_1 (MaxPooling  (None, 36, 36, 64)       0         \n",
            " 2D)                                                             \n",
            "                                                                 \n",
            " conv2d_2 (Conv2D)           (None, 34, 34, 128)       73856     \n",
            "                                                                 \n",
            " max_pooling2d_2 (MaxPooling  (None, 17, 17, 128)      0         \n",
            " 2D)                                                             \n",
            "                                                                 \n",
            " conv2d_3 (Conv2D)           (None, 15, 15, 128)       147584    \n",
            "                                                                 \n",
            " max_pooling2d_3 (MaxPooling  (None, 7, 7, 128)        0         \n",
            " 2D)                                                             \n",
            "                                                                 \n",
            " flatten (Flatten)           (None, 6272)              0         \n",
            "                                                                 \n",
            " dropout (Dropout)           (None, 6272)              0         \n",
            "                                                                 \n",
            " dense (Dense)               (None, 512)               3211776   \n",
            "                                                                 \n",
            " dense_1 (Dense)             (None, 3)                 1539      \n",
            "                                                                 \n",
            "=================================================================\n",
            "Total params: 3,473,475\n",
            "Trainable params: 3,473,475\n",
            "Non-trainable params: 0\n",
            "_________________________________________________________________\n"
          ]
        }
      ]
    },
    {
      "cell_type": "code",
      "source": [
        "# Set the training parameters\n",
        "model.compile(loss = 'categorical_crossentropy', optimizer='Adam', metrics=['accuracy'])"
      ],
      "metadata": {
        "id": "RvBdG0e5bi9J"
      },
      "execution_count": 5,
      "outputs": []
    },
    {
      "cell_type": "markdown",
      "source": [
        "## Prepare the ImageDataGenerator"
      ],
      "metadata": {
        "id": "UfPLcJeCbpEJ"
      }
    },
    {
      "cell_type": "code",
      "source": [
        "from keras_preprocessing.image import ImageDataGenerator\n",
        "\n",
        "TRAINING_DIR = \"tmp/rps-train/rps\"\n",
        "training_datagen = ImageDataGenerator(\n",
        "      rescale = 1./255,\n",
        "\t    rotation_range=40,\n",
        "      width_shift_range=0.2,\n",
        "      height_shift_range=0.2,\n",
        "      shear_range=0.2,\n",
        "      zoom_range=0.2,\n",
        "      horizontal_flip=True,\n",
        "      fill_mode='nearest')\n",
        "\n",
        "VALIDATION_DIR = \"tmp/rps-test/rps-test-set\"\n",
        "validation_datagen = ImageDataGenerator(rescale = 1./255)\n",
        "\n",
        "train_generator = training_datagen.flow_from_directory(\n",
        "\tTRAINING_DIR,\n",
        "\ttarget_size=(150,150),\n",
        "\tclass_mode='categorical',\n",
        "  batch_size=126\n",
        ")\n",
        "\n",
        "validation_generator = validation_datagen.flow_from_directory(\n",
        "\tVALIDATION_DIR,\n",
        "\ttarget_size=(150,150),\n",
        "\tclass_mode='categorical',\n",
        "  batch_size=126\n",
        ")"
      ],
      "metadata": {
        "colab": {
          "base_uri": "https://localhost:8080/"
        },
        "id": "8b09oCGNbvpZ",
        "outputId": "c7d49dac-9b50-4b76-ccc5-a7496d0f51b3"
      },
      "execution_count": 6,
      "outputs": [
        {
          "output_type": "stream",
          "name": "stdout",
          "text": [
            "Found 2520 images belonging to 3 classes.\n",
            "Found 372 images belonging to 3 classes.\n"
          ]
        }
      ]
    },
    {
      "cell_type": "markdown",
      "source": [
        "## Train the model and evaluate the results"
      ],
      "metadata": {
        "id": "D4UE0kr2b1Yg"
      }
    },
    {
      "cell_type": "code",
      "source": [
        "# Train the model\n",
        "history = model.fit(train_generator, epochs=100, steps_per_epoch=20, validation_data = validation_generator, verbose = 1, validation_steps=3)"
      ],
      "metadata": {
        "colab": {
          "base_uri": "https://localhost:8080/"
        },
        "id": "gcy3RQI1b6bI",
        "outputId": "50904142-cc57-4cd2-8ed3-5eb0c72cd94a"
      },
      "execution_count": 8,
      "outputs": [
        {
          "output_type": "stream",
          "name": "stdout",
          "text": [
            "Epoch 1/100\n",
            "20/20 [==============================] - 22s 1s/step - loss: 1.1068 - accuracy: 0.3575 - val_loss: 1.0453 - val_accuracy: 0.5591\n",
            "Epoch 2/100\n",
            "20/20 [==============================] - 20s 1s/step - loss: 0.9843 - accuracy: 0.4992 - val_loss: 0.7904 - val_accuracy: 0.5672\n",
            "Epoch 3/100\n",
            "20/20 [==============================] - 20s 1s/step - loss: 0.7899 - accuracy: 0.6333 - val_loss: 0.4516 - val_accuracy: 0.8333\n",
            "Epoch 4/100\n",
            "20/20 [==============================] - 21s 1s/step - loss: 0.5756 - accuracy: 0.7552 - val_loss: 0.2517 - val_accuracy: 0.9032\n",
            "Epoch 5/100\n",
            "20/20 [==============================] - 21s 1s/step - loss: 0.5234 - accuracy: 0.7766 - val_loss: 0.3751 - val_accuracy: 0.8145\n",
            "Epoch 6/100\n",
            "20/20 [==============================] - 20s 1s/step - loss: 0.4318 - accuracy: 0.8234 - val_loss: 0.1279 - val_accuracy: 0.9543\n",
            "Epoch 7/100\n",
            "20/20 [==============================] - 20s 999ms/step - loss: 0.5055 - accuracy: 0.7996 - val_loss: 0.3930 - val_accuracy: 0.9597\n",
            "Epoch 8/100\n",
            "20/20 [==============================] - 20s 992ms/step - loss: 0.5055 - accuracy: 0.8044 - val_loss: 0.1686 - val_accuracy: 0.9435\n",
            "Epoch 9/100\n",
            "20/20 [==============================] - 20s 994ms/step - loss: 0.3235 - accuracy: 0.8794 - val_loss: 0.0870 - val_accuracy: 0.9624\n",
            "Epoch 10/100\n",
            "20/20 [==============================] - 20s 990ms/step - loss: 0.2387 - accuracy: 0.9091 - val_loss: 0.0565 - val_accuracy: 0.9839\n",
            "Epoch 11/100\n",
            "20/20 [==============================] - 20s 994ms/step - loss: 0.2198 - accuracy: 0.9179 - val_loss: 0.0944 - val_accuracy: 0.9543\n",
            "Epoch 12/100\n",
            "20/20 [==============================] - 20s 992ms/step - loss: 0.2288 - accuracy: 0.9163 - val_loss: 0.0391 - val_accuracy: 0.9919\n",
            "Epoch 13/100\n",
            "20/20 [==============================] - 20s 1s/step - loss: 0.1657 - accuracy: 0.9429 - val_loss: 0.0554 - val_accuracy: 0.9758\n",
            "Epoch 14/100\n",
            "20/20 [==============================] - 21s 1s/step - loss: 0.1530 - accuracy: 0.9496 - val_loss: 0.0727 - val_accuracy: 0.9731\n",
            "Epoch 15/100\n",
            "20/20 [==============================] - 21s 1s/step - loss: 0.1253 - accuracy: 0.9544 - val_loss: 0.0714 - val_accuracy: 0.9677\n",
            "Epoch 16/100\n",
            "20/20 [==============================] - 21s 1s/step - loss: 0.1065 - accuracy: 0.9623 - val_loss: 0.1501 - val_accuracy: 0.9570\n",
            "Epoch 17/100\n",
            "20/20 [==============================] - 21s 1s/step - loss: 0.1296 - accuracy: 0.9516 - val_loss: 0.0362 - val_accuracy: 0.9839\n",
            "Epoch 18/100\n",
            "20/20 [==============================] - 20s 1s/step - loss: 0.0979 - accuracy: 0.9687 - val_loss: 0.0188 - val_accuracy: 1.0000\n",
            "Epoch 19/100\n",
            "20/20 [==============================] - 20s 1s/step - loss: 0.1068 - accuracy: 0.9619 - val_loss: 0.0627 - val_accuracy: 0.9785\n",
            "Epoch 20/100\n",
            "20/20 [==============================] - 22s 1s/step - loss: 0.0948 - accuracy: 0.9655 - val_loss: 0.0350 - val_accuracy: 0.9812\n",
            "Epoch 21/100\n",
            "20/20 [==============================] - 21s 1s/step - loss: 0.0854 - accuracy: 0.9730 - val_loss: 0.0943 - val_accuracy: 0.9704\n",
            "Epoch 22/100\n",
            "20/20 [==============================] - 21s 1s/step - loss: 0.1051 - accuracy: 0.9647 - val_loss: 0.0852 - val_accuracy: 0.9597\n",
            "Epoch 23/100\n",
            "20/20 [==============================] - 21s 1s/step - loss: 0.0729 - accuracy: 0.9722 - val_loss: 0.0358 - val_accuracy: 0.9839\n",
            "Epoch 24/100\n",
            "20/20 [==============================] - 21s 1s/step - loss: 0.0618 - accuracy: 0.9778 - val_loss: 0.1268 - val_accuracy: 0.9516\n",
            "Epoch 25/100\n",
            "20/20 [==============================] - 21s 1s/step - loss: 0.0701 - accuracy: 0.9698 - val_loss: 0.0454 - val_accuracy: 0.9785\n",
            "Epoch 26/100\n",
            "20/20 [==============================] - 21s 1s/step - loss: 0.0764 - accuracy: 0.9754 - val_loss: 0.0156 - val_accuracy: 1.0000\n",
            "Epoch 27/100\n",
            "20/20 [==============================] - 21s 1s/step - loss: 0.0575 - accuracy: 0.9833 - val_loss: 0.2138 - val_accuracy: 0.9140\n",
            "Epoch 28/100\n",
            "20/20 [==============================] - 21s 1s/step - loss: 0.0602 - accuracy: 0.9782 - val_loss: 0.0760 - val_accuracy: 0.9597\n",
            "Epoch 29/100\n",
            "20/20 [==============================] - 20s 1s/step - loss: 0.0647 - accuracy: 0.9802 - val_loss: 0.0315 - val_accuracy: 0.9839\n",
            "Epoch 30/100\n",
            "20/20 [==============================] - 21s 1s/step - loss: 0.0501 - accuracy: 0.9845 - val_loss: 0.1476 - val_accuracy: 0.9489\n",
            "Epoch 31/100\n",
            "20/20 [==============================] - 20s 1s/step - loss: 0.0541 - accuracy: 0.9802 - val_loss: 0.0035 - val_accuracy: 1.0000\n",
            "Epoch 32/100\n",
            "20/20 [==============================] - 20s 997ms/step - loss: 0.0550 - accuracy: 0.9821 - val_loss: 0.0254 - val_accuracy: 0.9866\n",
            "Epoch 33/100\n",
            "20/20 [==============================] - 20s 1s/step - loss: 0.0336 - accuracy: 0.9905 - val_loss: 0.0299 - val_accuracy: 0.9839\n",
            "Epoch 34/100\n",
            "20/20 [==============================] - 20s 1s/step - loss: 0.0348 - accuracy: 0.9897 - val_loss: 0.0350 - val_accuracy: 0.9839\n",
            "Epoch 35/100\n",
            "20/20 [==============================] - 21s 1s/step - loss: 0.0442 - accuracy: 0.9869 - val_loss: 0.0331 - val_accuracy: 0.9839\n",
            "Epoch 36/100\n",
            "20/20 [==============================] - 20s 989ms/step - loss: 0.0369 - accuracy: 0.9861 - val_loss: 0.0724 - val_accuracy: 0.9785\n",
            "Epoch 37/100\n",
            "20/20 [==============================] - 20s 989ms/step - loss: 0.0444 - accuracy: 0.9849 - val_loss: 0.0202 - val_accuracy: 0.9866\n",
            "Epoch 38/100\n",
            "20/20 [==============================] - 20s 988ms/step - loss: 0.0352 - accuracy: 0.9901 - val_loss: 0.0360 - val_accuracy: 0.9812\n",
            "Epoch 39/100\n",
            "20/20 [==============================] - 20s 994ms/step - loss: 0.0430 - accuracy: 0.9841 - val_loss: 0.0225 - val_accuracy: 0.9866\n",
            "Epoch 40/100\n",
            "20/20 [==============================] - 20s 988ms/step - loss: 0.0320 - accuracy: 0.9889 - val_loss: 0.0324 - val_accuracy: 0.9866\n",
            "Epoch 41/100\n",
            "20/20 [==============================] - 21s 1s/step - loss: 0.0478 - accuracy: 0.9841 - val_loss: 0.0079 - val_accuracy: 1.0000\n",
            "Epoch 42/100\n",
            "20/20 [==============================] - 20s 991ms/step - loss: 0.0331 - accuracy: 0.9905 - val_loss: 0.0287 - val_accuracy: 0.9839\n",
            "Epoch 43/100\n",
            "20/20 [==============================] - 20s 997ms/step - loss: 0.0255 - accuracy: 0.9925 - val_loss: 0.0068 - val_accuracy: 1.0000\n",
            "Epoch 44/100\n",
            "20/20 [==============================] - 20s 996ms/step - loss: 0.0239 - accuracy: 0.9925 - val_loss: 0.0812 - val_accuracy: 0.9758\n",
            "Epoch 45/100\n",
            "20/20 [==============================] - 20s 995ms/step - loss: 0.0389 - accuracy: 0.9877 - val_loss: 0.0737 - val_accuracy: 0.9758\n",
            "Epoch 46/100\n",
            "20/20 [==============================] - 21s 1s/step - loss: 0.0344 - accuracy: 0.9885 - val_loss: 0.0563 - val_accuracy: 0.9758\n",
            "Epoch 47/100\n",
            "20/20 [==============================] - 20s 998ms/step - loss: 0.0260 - accuracy: 0.9917 - val_loss: 0.0503 - val_accuracy: 0.9812\n",
            "Epoch 48/100\n",
            "20/20 [==============================] - 20s 993ms/step - loss: 0.0297 - accuracy: 0.9889 - val_loss: 0.0048 - val_accuracy: 1.0000\n",
            "Epoch 49/100\n",
            "20/20 [==============================] - 20s 996ms/step - loss: 0.0290 - accuracy: 0.9897 - val_loss: 0.0112 - val_accuracy: 1.0000\n",
            "Epoch 50/100\n",
            "20/20 [==============================] - 20s 985ms/step - loss: 0.0286 - accuracy: 0.9905 - val_loss: 0.0141 - val_accuracy: 1.0000\n",
            "Epoch 51/100\n",
            "20/20 [==============================] - 21s 1s/step - loss: 0.0241 - accuracy: 0.9937 - val_loss: 0.0336 - val_accuracy: 0.9839\n",
            "Epoch 52/100\n",
            "20/20 [==============================] - 20s 989ms/step - loss: 0.0364 - accuracy: 0.9869 - val_loss: 0.0271 - val_accuracy: 0.9866\n",
            "Epoch 53/100\n",
            "20/20 [==============================] - 20s 988ms/step - loss: 0.0281 - accuracy: 0.9913 - val_loss: 0.0068 - val_accuracy: 1.0000\n",
            "Epoch 54/100\n",
            "20/20 [==============================] - 20s 1s/step - loss: 0.0243 - accuracy: 0.9921 - val_loss: 0.0467 - val_accuracy: 0.9812\n",
            "Epoch 55/100\n",
            "20/20 [==============================] - 21s 1s/step - loss: 0.0233 - accuracy: 0.9933 - val_loss: 0.0195 - val_accuracy: 0.9866\n",
            "Epoch 56/100\n",
            "20/20 [==============================] - 22s 1s/step - loss: 0.0260 - accuracy: 0.9901 - val_loss: 0.0401 - val_accuracy: 0.9812\n",
            "Epoch 57/100\n",
            "20/20 [==============================] - 21s 1s/step - loss: 0.0347 - accuracy: 0.9857 - val_loss: 0.0378 - val_accuracy: 0.9839\n",
            "Epoch 58/100\n",
            "20/20 [==============================] - 21s 1s/step - loss: 0.0274 - accuracy: 0.9913 - val_loss: 0.0275 - val_accuracy: 0.9866\n",
            "Epoch 59/100\n",
            "20/20 [==============================] - 21s 1s/step - loss: 0.0161 - accuracy: 0.9940 - val_loss: 0.0294 - val_accuracy: 0.9839\n",
            "Epoch 60/100\n",
            "20/20 [==============================] - 21s 1s/step - loss: 0.0260 - accuracy: 0.9897 - val_loss: 0.1400 - val_accuracy: 0.9543\n",
            "Epoch 61/100\n",
            "20/20 [==============================] - 20s 1s/step - loss: 0.0377 - accuracy: 0.9861 - val_loss: 0.0444 - val_accuracy: 0.9758\n",
            "Epoch 62/100\n",
            "20/20 [==============================] - 21s 1s/step - loss: 0.0315 - accuracy: 0.9893 - val_loss: 0.0155 - val_accuracy: 1.0000\n",
            "Epoch 63/100\n",
            "20/20 [==============================] - 21s 1s/step - loss: 0.0306 - accuracy: 0.9897 - val_loss: 0.0777 - val_accuracy: 0.9785\n",
            "Epoch 64/100\n",
            "20/20 [==============================] - 21s 1s/step - loss: 0.0339 - accuracy: 0.9881 - val_loss: 0.0133 - val_accuracy: 1.0000\n",
            "Epoch 65/100\n",
            "20/20 [==============================] - 21s 1s/step - loss: 0.0214 - accuracy: 0.9929 - val_loss: 0.0403 - val_accuracy: 0.9839\n",
            "Epoch 66/100\n",
            "20/20 [==============================] - 21s 1s/step - loss: 0.0209 - accuracy: 0.9940 - val_loss: 0.0348 - val_accuracy: 0.9812\n",
            "Epoch 67/100\n",
            "20/20 [==============================] - 22s 1s/step - loss: 0.0268 - accuracy: 0.9909 - val_loss: 0.0182 - val_accuracy: 0.9866\n",
            "Epoch 68/100\n",
            "20/20 [==============================] - 20s 1s/step - loss: 0.0212 - accuracy: 0.9917 - val_loss: 0.0149 - val_accuracy: 0.9892\n",
            "Epoch 69/100\n",
            "20/20 [==============================] - 20s 1s/step - loss: 0.0139 - accuracy: 0.9968 - val_loss: 0.0217 - val_accuracy: 0.9839\n",
            "Epoch 70/100\n",
            "20/20 [==============================] - 20s 1s/step - loss: 0.0151 - accuracy: 0.9948 - val_loss: 0.0839 - val_accuracy: 0.9758\n",
            "Epoch 71/100\n",
            "20/20 [==============================] - 20s 983ms/step - loss: 0.0107 - accuracy: 0.9960 - val_loss: 0.0049 - val_accuracy: 1.0000\n",
            "Epoch 72/100\n",
            "20/20 [==============================] - 21s 1s/step - loss: 0.0174 - accuracy: 0.9933 - val_loss: 0.0050 - val_accuracy: 1.0000\n",
            "Epoch 73/100\n",
            "20/20 [==============================] - 20s 1s/step - loss: 0.0266 - accuracy: 0.9885 - val_loss: 0.0679 - val_accuracy: 0.9731\n",
            "Epoch 74/100\n",
            "20/20 [==============================] - 21s 1s/step - loss: 0.0297 - accuracy: 0.9917 - val_loss: 0.0496 - val_accuracy: 0.9812\n",
            "Epoch 75/100\n",
            "20/20 [==============================] - 21s 1s/step - loss: 0.0237 - accuracy: 0.9897 - val_loss: 0.0556 - val_accuracy: 0.9785\n",
            "Epoch 76/100\n",
            "20/20 [==============================] - 22s 1s/step - loss: 0.0295 - accuracy: 0.9925 - val_loss: 0.0581 - val_accuracy: 0.9785\n",
            "Epoch 77/100\n",
            "20/20 [==============================] - 21s 1s/step - loss: 0.0203 - accuracy: 0.9937 - val_loss: 0.0333 - val_accuracy: 0.9812\n",
            "Epoch 78/100\n",
            "20/20 [==============================] - 20s 1s/step - loss: 0.0155 - accuracy: 0.9940 - val_loss: 0.0942 - val_accuracy: 0.9731\n",
            "Epoch 79/100\n",
            "20/20 [==============================] - 21s 1s/step - loss: 0.0321 - accuracy: 0.9901 - val_loss: 0.2577 - val_accuracy: 0.9167\n",
            "Epoch 80/100\n",
            "20/20 [==============================] - 21s 1s/step - loss: 0.0435 - accuracy: 0.9857 - val_loss: 0.0304 - val_accuracy: 0.9839\n",
            "Epoch 81/100\n",
            "20/20 [==============================] - 22s 1s/step - loss: 0.0213 - accuracy: 0.9929 - val_loss: 0.0270 - val_accuracy: 0.9839\n",
            "Epoch 82/100\n",
            "20/20 [==============================] - 20s 1s/step - loss: 0.0242 - accuracy: 0.9913 - val_loss: 0.0385 - val_accuracy: 0.9812\n",
            "Epoch 83/100\n",
            "20/20 [==============================] - 21s 1s/step - loss: 0.0175 - accuracy: 0.9929 - val_loss: 0.0209 - val_accuracy: 0.9866\n",
            "Epoch 84/100\n",
            "20/20 [==============================] - 21s 1s/step - loss: 0.0239 - accuracy: 0.9929 - val_loss: 0.0380 - val_accuracy: 0.9812\n",
            "Epoch 85/100\n",
            "20/20 [==============================] - 21s 1s/step - loss: 0.0104 - accuracy: 0.9972 - val_loss: 0.0441 - val_accuracy: 0.9812\n",
            "Epoch 86/100\n",
            "20/20 [==============================] - 21s 1s/step - loss: 0.0150 - accuracy: 0.9968 - val_loss: 0.0645 - val_accuracy: 0.9785\n",
            "Epoch 87/100\n",
            "20/20 [==============================] - 20s 1s/step - loss: 0.0218 - accuracy: 0.9921 - val_loss: 0.0319 - val_accuracy: 0.9839\n",
            "Epoch 88/100\n",
            "20/20 [==============================] - 20s 1s/step - loss: 0.0213 - accuracy: 0.9940 - val_loss: 0.0170 - val_accuracy: 0.9892\n",
            "Epoch 89/100\n",
            "20/20 [==============================] - 20s 1s/step - loss: 0.0171 - accuracy: 0.9933 - val_loss: 0.0580 - val_accuracy: 0.9758\n",
            "Epoch 90/100\n",
            "20/20 [==============================] - 20s 993ms/step - loss: 0.0365 - accuracy: 0.9893 - val_loss: 0.0041 - val_accuracy: 1.0000\n",
            "Epoch 91/100\n",
            "20/20 [==============================] - 20s 993ms/step - loss: 0.0288 - accuracy: 0.9905 - val_loss: 0.0522 - val_accuracy: 0.9758\n",
            "Epoch 92/100\n",
            "20/20 [==============================] - 21s 1s/step - loss: 0.0194 - accuracy: 0.9933 - val_loss: 0.0469 - val_accuracy: 0.9785\n",
            "Epoch 93/100\n",
            "20/20 [==============================] - 20s 998ms/step - loss: 0.0078 - accuracy: 0.9980 - val_loss: 0.1094 - val_accuracy: 0.9677\n",
            "Epoch 94/100\n",
            "20/20 [==============================] - 20s 995ms/step - loss: 0.0068 - accuracy: 0.9992 - val_loss: 0.0507 - val_accuracy: 0.9812\n",
            "Epoch 95/100\n",
            "20/20 [==============================] - 20s 995ms/step - loss: 0.0145 - accuracy: 0.9948 - val_loss: 0.0711 - val_accuracy: 0.9785\n",
            "Epoch 96/100\n",
            "20/20 [==============================] - 20s 994ms/step - loss: 0.0141 - accuracy: 0.9960 - val_loss: 0.0903 - val_accuracy: 0.9758\n",
            "Epoch 97/100\n",
            "20/20 [==============================] - 21s 1s/step - loss: 0.0120 - accuracy: 0.9976 - val_loss: 0.0563 - val_accuracy: 0.9785\n",
            "Epoch 98/100\n",
            "20/20 [==============================] - 20s 996ms/step - loss: 0.0161 - accuracy: 0.9960 - val_loss: 0.0406 - val_accuracy: 0.9812\n",
            "Epoch 99/100\n",
            "20/20 [==============================] - 20s 994ms/step - loss: 0.0356 - accuracy: 0.9885 - val_loss: 0.0772 - val_accuracy: 0.9785\n",
            "Epoch 100/100\n",
            "20/20 [==============================] - 20s 992ms/step - loss: 0.0294 - accuracy: 0.9881 - val_loss: 0.0574 - val_accuracy: 0.9704\n"
          ]
        }
      ]
    },
    {
      "cell_type": "code",
      "source": [
        "import matplotlib.pyplot as plt\n",
        "\n",
        "# Plot the results\n",
        "acc = history.history['accuracy']\n",
        "val_acc = history.history['val_accuracy']\n",
        "loss = history.history['loss']\n",
        "val_loss = history.history['val_loss']\n",
        "\n",
        "epochs = range(len(acc))\n",
        "\n",
        "plt.plot(epochs, acc, 'r', label='Training accuracy')\n",
        "plt.plot(epochs, val_acc, 'b', label='Validation accuracy')\n",
        "plt.title('Training and validation accuracy')\n",
        "plt.legend(loc=0)\n",
        "plt.figure()\n",
        "\n",
        "plt.show()"
      ],
      "metadata": {
        "colab": {
          "base_uri": "https://localhost:8080/",
          "height": 299
        },
        "id": "qxO2A2GSb8Te",
        "outputId": "192f1c0c-4190-4f0c-9295-aff79ba4d91d"
      },
      "execution_count": 9,
      "outputs": [
        {
          "output_type": "display_data",
          "data": {
            "text/plain": [
              "<Figure size 432x288 with 1 Axes>"
            ],
            "image/png": "[encoded data removed]"
          },
          "metadata": {
            "needs_background": "light"
          }
        },
        {
          "output_type": "display_data",
          "data": {
            "text/plain": [
              "<Figure size 432x288 with 0 Axes>"
            ]
          },
          "metadata": {}
        }
      ]
    },
    {
      "cell_type": "markdown",
      "source": [
        "## Model Prediction"
      ],
      "metadata": {
        "id": "RqZpVvKwb_6e"
      }
    },
    {
      "cell_type": "code",
      "source": [
        "## CODE BLOCK FOR NON-SAFARI BROWSERS\n",
        "\n",
        "import numpy as np\n",
        "from google.colab import files\n",
        "from keras.preprocessing import image\n",
        "\n",
        "uploaded = files.upload()\n",
        "\n",
        "for fn in uploaded.keys():\n",
        " \n",
        "  # predicting images\n",
        "  path = fn\n",
        "  img = image.load_img(path, target_size=(150, 150))\n",
        "  x = image.img_to_array(img)\n",
        "  x = np.expand_dims(x, axis=0)\n",
        "\n",
        "  images = np.vstack([x])\n",
        "  classes = model.predict(images, batch_size=10)\n",
        "  print(fn)\n",
        "  print(classes)"
      ],
      "metadata": {
        "colab": {
          "resources": {
            "http://localhost:8080/nbextensions/google.colab/files.js": {
              "data": "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",
              "ok": true,
              "headers": [
                [
                  "content-type",
                  "application/javascript"
                ]
              ],
              "status": 200,
              "status_text": ""
            }
          },
          "base_uri": "https://localhost:8080/",
          "height": 113
        },
        "id": "8AzSKb0YcB33",
        "outputId": "4a7db40f-37d1-442c-b2e8-048496405ecc"
      },
      "execution_count": 10,
      "outputs": [
        {
          "output_type": "display_data",
          "data": {
            "text/plain": [
              "<IPython.core.display.HTML object>"
            ],
            "text/html": [
              "\n",
              "     <input type=\"file\" id=\"files-e6e0e970-1109-4452-9c09-0860780b0907\" name=\"files[]\" multiple disabled\n",
              "        style=\"border:none\" />\n",
              "     <output id=\"result-e6e0e970-1109-4452-9c09-0860780b0907\">\n",
              "      Upload widget is only available when the cell has been executed in the\n",
              "      current browser session. Please rerun this cell to enable.\n",
              "      </output>\n",
              "      <script src=\"/nbextensions/google.colab/files.js\"></script> "
            ]
          },
          "metadata": {}
        },
        {
          "output_type": "stream",
          "name": "stdout",
          "text": [
            "Saving 11.JPG to 11.JPG\n",
            "11.JPG\n",
            "[[1. 0. 0.]]\n"
          ]
        }
      ]
    },
    {
      "cell_type": "code",
      "source": [
        "# CODE BLOCK FOR SAFARI USERS\n",
        "\n",
        "import os\n",
        "import numpy as np\n",
        "from keras.preprocessing import image\n",
        "\n",
        "images = os.listdir(\"/tmp/images\")\n",
        "\n",
        "print(images)\n",
        "\n",
        "for i in images:\n",
        "  print()\n",
        "  \n",
        "  # predicting images\n",
        "  path = '/tmp/images/' + i\n",
        "  img = image.load_img(path, target_size=(150, 150))\n",
        "  x = image.img_to_array(img)\n",
        "  x = np.expand_dims(x, axis=0)\n",
        "    \n",
        "  images = np.vstack([x])\n",
        "  classes = model.predict(images, batch_size=10)\n",
        "  print(path)\n",
        "  print(classes)"
      ],
      "metadata": {
        "id": "bVaVFyM-cGfw"
      },
      "execution_count": null,
      "outputs": []
    }
  ]
}